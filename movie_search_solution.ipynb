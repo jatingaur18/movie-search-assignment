{
 "cells": [
  {
   "cell_type": "markdown",
   "metadata": {},
   "source": [
    "# Movie Semantic Search Assignment\n",
    "\n",
    "This notebook implements a semantic search engine for movie plots using SentenceTransformers.\n",
    "\n",
    "**Student Name:** Amritanshu Darbari  \n",
    "**Assignment:** Semantic Search on Movie Plots  \n",
    "**Due Date:** August 26, 2025\n"
   ]
  },
  {
   "cell_type": "markdown",
   "metadata": {},
   "source": [
    "## Section 1: Install and Import Libraries\n",
    "\n",
    "First, we'll install and import all the necessary libraries for our semantic search system."
   ]
  },
  {
   "cell_type": "code",
   "execution_count": 1,
   "metadata": {
    "execution": {
     "iopub.execute_input": "2025-08-26T06:46:35.339958Z",
     "iopub.status.busy": "2025-08-26T06:46:35.339555Z",
     "iopub.status.idle": "2025-08-26T06:46:38.078291Z",
     "shell.execute_reply": "2025-08-26T06:46:38.077854Z"
    }
   },
   "outputs": [
    {
     "name": "stdout",
     "output_type": "stream",
     "text": [
      "Libraries imported successfully!\n"
     ]
    }
   ],
   "source": [
    "# Install required packages (run this cell if packages are not installed)\n",
    "# !pip install sentence-transformers pandas scikit-learn numpy\n",
    "\n",
    "# Import necessary libraries\n",
    "import pandas as pd\n",
    "import numpy as np\n",
    "from sentence_transformers import SentenceTransformer\n",
    "from sklearn.metrics.pairwise import cosine_similarity\n",
    "import warnings\n",
    "warnings.filterwarnings('ignore')\n",
    "\n",
    "print(\"Libraries imported successfully!\")"
   ]
  },
  {
   "cell_type": "markdown",
   "metadata": {},
   "source": [
    "## Section 2: Load Movie Dataset\n",
    "\n",
    "We'll load the movie dataset from the CSV file into a pandas DataFrame."
   ]
  },
  {
   "cell_type": "code",
   "execution_count": 2,
   "metadata": {
    "execution": {
     "iopub.execute_input": "2025-08-26T06:46:38.099654Z",
     "iopub.status.busy": "2025-08-26T06:46:38.099401Z",
     "iopub.status.idle": "2025-08-26T06:46:38.107723Z",
     "shell.execute_reply": "2025-08-26T06:46:38.107343Z"
    }
   },
   "outputs": [
    {
     "name": "stdout",
     "output_type": "stream",
     "text": [
      "Dataset shape: (20, 2)\n",
      "Columns: ['title', 'plot']\n",
      "\n",
      "First 5 movies:\n",
      "                  title                                               plot\n",
      "0   The Bourne Identity  A man with amnesia wakes up on a fishing boat ...\n",
      "1   Mission: Impossible  Ethan Hunt, an agent of the Impossible Mission...\n",
      "2         Casino Royale  James Bond's first mission as 007 leads him to...\n",
      "3  The Spy Who Loved Me  British and Russian submarines carrying nuclea...\n",
      "4    North by Northwest  An advertising executive is mistaken for a gov...\n"
     ]
    }
   ],
   "source": [
    "# Load the movies dataset\n",
    "movies_df = pd.read_csv('movies.csv')\n",
    "\n",
    "# Display basic information about the dataset\n",
    "print(f\"Dataset shape: {movies_df.shape}\")\n",
    "print(f\"Columns: {list(movies_df.columns)}\")\n",
    "print(\"\\nFirst 5 movies:\")\n",
    "print(movies_df.head())"
   ]
  },
  {
   "cell_type": "markdown",
   "metadata": {},
   "source": [
    "## Section 3: Create Embeddings using SentenceTransformers\n",
    "\n",
    "We'll use the 'all-MiniLM-L6-v2' model to create embeddings for all movie plots."
   ]
  },
  {
   "cell_type": "code",
   "execution_count": 3,
   "metadata": {
    "execution": {
     "iopub.execute_input": "2025-08-26T06:46:38.109069Z",
     "iopub.status.busy": "2025-08-26T06:46:38.108950Z",
     "iopub.status.idle": "2025-08-26T06:46:41.811863Z",
     "shell.execute_reply": "2025-08-26T06:46:41.811545Z"
    }
   },
   "outputs": [
    {
     "name": "stdout",
     "output_type": "stream",
     "text": [
      "Model loaded: SentenceTransformer(\n",
      "  (0): Transformer({'max_seq_length': 256, 'do_lower_case': False, 'architecture': 'BertModel'})\n",
      "  (1): Pooling({'word_embedding_dimension': 384, 'pooling_mode_cls_token': False, 'pooling_mode_mean_tokens': True, 'pooling_mode_max_tokens': False, 'pooling_mode_mean_sqrt_len_tokens': False, 'pooling_mode_weightedmean_tokens': False, 'pooling_mode_lasttoken': False, 'include_prompt': True})\n",
      "  (2): Normalize()\n",
      ")\n",
      "Model max sequence length: 256\n"
     ]
    }
   ],
   "source": [
    "# Initialize the SentenceTransformer model\n",
    "# all-MiniLM-L6-v2 is a lightweight model that provides good performance for semantic similarity\n",
    "model = SentenceTransformer('all-MiniLM-L6-v2')\n",
    "\n",
    "print(f\"Model loaded: {model}\")\n",
    "print(f\"Model max sequence length: {model.max_seq_length}\")"
   ]
  },
  {
   "cell_type": "code",
   "execution_count": 4,
   "metadata": {
    "execution": {
     "iopub.execute_input": "2025-08-26T06:46:41.813165Z",
     "iopub.status.busy": "2025-08-26T06:46:41.813039Z",
     "iopub.status.idle": "2025-08-26T06:46:41.986106Z",
     "shell.execute_reply": "2025-08-26T06:46:41.985803Z"
    }
   },
   "outputs": [
    {
     "name": "stdout",
     "output_type": "stream",
     "text": [
      "Creating embeddings for movie plots...\n"
     ]
    },
    {
     "data": {
      "application/vnd.jupyter.widget-view+json": {
       "model_id": "3e35865c34e54b47b6e96884c0fe0b3d",
       "version_major": 2,
       "version_minor": 0
      },
      "text/plain": [
       "Batches:   0%|          | 0/1 [00:00<?, ?it/s]"
      ]
     },
     "metadata": {},
     "output_type": "display_data"
    },
    {
     "name": "stdout",
     "output_type": "stream",
     "text": [
      "Created embeddings with shape: (20, 384)\n",
      "Each movie plot is represented by a 384-dimensional vector\n"
     ]
    }
   ],
   "source": [
    "# Create embeddings for all movie plots\n",
    "print(\"Creating embeddings for movie plots...\")\n",
    "\n",
    "# Extract plot descriptions\n",
    "movie_plots = movies_df['plot'].tolist()\n",
    "\n",
    "# Generate embeddings using the SentenceTransformer model\n",
    "movie_embeddings = model.encode(movie_plots, show_progress_bar=True)\n",
    "\n",
    "print(f\"Created embeddings with shape: {movie_embeddings.shape}\")\n",
    "print(f\"Each movie plot is represented by a {movie_embeddings.shape[1]}-dimensional vector\")"
   ]
  },
  {
   "cell_type": "markdown",
   "metadata": {},
   "source": [
    "## Section 4: Implement Search Function\n",
    "\n",
    "Now we'll implement the `search_movies` function that takes a query and returns the most similar movies."
   ]
  },
  {
   "cell_type": "code",
   "execution_count": 5,
   "metadata": {
    "execution": {
     "iopub.execute_input": "2025-08-26T06:46:41.987543Z",
     "iopub.status.busy": "2025-08-26T06:46:41.987412Z",
     "iopub.status.idle": "2025-08-26T06:46:41.990275Z",
     "shell.execute_reply": "2025-08-26T06:46:41.990016Z"
    }
   },
   "outputs": [
    {
     "name": "stdout",
     "output_type": "stream",
     "text": [
      "search_movies function defined successfully!\n"
     ]
    }
   ],
   "source": [
    "def search_movies(query, top_n=5):\n",
    "    \"\"\"\n",
    "    Search for movies based on a text query using semantic similarity.\n",
    "    \n",
    "    Args:\n",
    "        query (str): The search query describing the type of movie desired\n",
    "        top_n (int): Number of top results to return (default: 5)\n",
    "    \n",
    "    Returns:\n",
    "        pandas.DataFrame: DataFrame containing top_n movies with columns:\n",
    "                         - title: Movie title\n",
    "                         - plot: Movie plot description  \n",
    "                         - similarity_score: Cosine similarity score (0-1)\n",
    "    \"\"\"\n",
    "    \n",
    "    # Step 1: Encode the search query using the same model\n",
    "    query_embedding = model.encode([query])\n",
    "    \n",
    "    # Step 2: Calculate cosine similarity between query and all movie plots\n",
    "    # cosine_similarity returns a 2D array, we take the first row\n",
    "    similarities = cosine_similarity(query_embedding, movie_embeddings)[0]\n",
    "    \n",
    "    # Step 3: Get indices of top_n most similar movies\n",
    "    # argsort() returns indices that would sort the array\n",
    "    # [::-1] reverses to get descending order (highest similarity first)\n",
    "    # [:top_n] takes only the top_n results\n",
    "    top_indices = np.argsort(similarities)[::-1][:top_n]\n",
    "    \n",
    "    # Step 4: Create result DataFrame with the top movies\n",
    "    result_df = movies_df.iloc[top_indices].copy()\n",
    "    \n",
    "    # Step 5: Add similarity scores to the result\n",
    "    result_df['similarity_score'] = similarities[top_indices]\n",
    "    \n",
    "    # Step 6: Reset index and return only required columns\n",
    "    result_df = result_df.reset_index(drop=True)\n",
    "    \n",
    "    return result_df[['title', 'plot', 'similarity_score']]\n",
    "\n",
    "print(\"search_movies function defined successfully!\")"
   ]
  },
  {
   "cell_type": "markdown",
   "metadata": {},
   "source": [
    "## Section 5: Test the Search Function\n",
    "\n",
    "Let's test our search function with the query 'spy thriller in Paris' and see the results."
   ]
  },
  {
   "cell_type": "code",
   "execution_count": 6,
   "metadata": {
    "execution": {
     "iopub.execute_input": "2025-08-26T06:46:41.991544Z",
     "iopub.status.busy": "2025-08-26T06:46:41.991437Z",
     "iopub.status.idle": "2025-08-26T06:46:42.007696Z",
     "shell.execute_reply": "2025-08-26T06:46:42.007385Z"
    }
   },
   "outputs": [
    {
     "name": "stdout",
     "output_type": "stream",
     "text": [
      "Search Results for: 'spy thriller in Paris'\n",
      "==================================================\n",
      "\n",
      "1. The French Connection\n",
      "   Similarity Score: 0.4318\n",
      "   Plot: New York City detectives Jimmy Doyle and Buddy Russo hope to break a narcotics smuggling ring and ul...\n",
      "\n",
      "2. Mission: Impossible\n",
      "   Similarity Score: 0.4281\n",
      "   Plot: Ethan Hunt, an agent of the Impossible Missions Force, is framed for the murders of his entire team....\n",
      "\n",
      "3. The Conversation\n",
      "   Similarity Score: 0.4129\n",
      "   Plot: A paranoid surveillance expert has a crisis of conscience when he suspects that the couple he is spy...\n",
      "\n",
      "4. The Departed\n",
      "   Similarity Score: 0.3687\n",
      "   Plot: An undercover cop and a police informant play a cat and mouse game with each other as they attempt t...\n",
      "\n",
      "5. Three Days of the Condor\n",
      "   Similarity Score: 0.3343\n",
      "   Plot: A bookish CIA researcher finds all his co-workers dead and must outwit those responsible until he fi...\n",
      "\n",
      "==================================================\n",
      "\n",
      "Full Results DataFrame:\n",
      "                      title  \\\n",
      "0     The French Connection   \n",
      "1       Mission: Impossible   \n",
      "2          The Conversation   \n",
      "3              The Departed   \n",
      "4  Three Days of the Condor   \n",
      "\n",
      "                                                plot  similarity_score  \n",
      "0  New York City detectives Jimmy Doyle and Buddy...          0.431816  \n",
      "1  Ethan Hunt, an agent of the Impossible Mission...          0.428095  \n",
      "2  A paranoid surveillance expert has a crisis of...          0.412903  \n",
      "3  An undercover cop and a police informant play ...          0.368734  \n",
      "4  A bookish CIA researcher finds all his co-work...          0.334277  \n"
     ]
    }
   ],
   "source": [
    "# Test the search function with the specified query\n",
    "test_query = 'spy thriller in Paris'\n",
    "results = search_movies(test_query, top_n=5)\n",
    "\n",
    "print(f\"Search Results for: '{test_query}'\")\n",
    "print(\"=\" * 50)\n",
    "\n",
    "# Display results in a nice format\n",
    "for idx, row in results.iterrows():\n",
    "    print(f\"\\n{idx + 1}. {row['title']}\")\n",
    "    print(f\"   Similarity Score: {row['similarity_score']:.4f}\")\n",
    "    print(f\"   Plot: {row['plot'][:100]}...\")\n",
    "\n",
    "print(\"\\n\" + \"=\" * 50)\n",
    "print(\"\\nFull Results DataFrame:\")\n",
    "print(results)"
   ]
  },
  {
   "cell_type": "markdown",
   "metadata": {},
   "source": [
    "## Additional Testing\n",
    "\n",
    "Let's test with a few more queries to see how well our semantic search works."
   ]
  },
  {
   "cell_type": "code",
   "execution_count": 7,
   "metadata": {
    "execution": {
     "iopub.execute_input": "2025-08-26T06:46:42.009039Z",
     "iopub.status.busy": "2025-08-26T06:46:42.008914Z",
     "iopub.status.idle": "2025-08-26T06:46:42.030799Z",
     "shell.execute_reply": "2025-08-26T06:46:42.030504Z"
    }
   },
   "outputs": [
    {
     "name": "stdout",
     "output_type": "stream",
     "text": [
      "\n",
      "Query: 'government conspiracy'\n",
      "------------------------------\n"
     ]
    },
    {
     "name": "stdout",
     "output_type": "stream",
     "text": [
      "1. The Pelican Brief (Score: 0.416)"
     ]
    },
    {
     "name": "stdout",
     "output_type": "stream",
     "text": [
      "\n",
      "2. Marathon Man (Score: 0.414)\n",
      "3. All the President's Men (Score: 0.406)\n",
      "\n",
      "Query: 'undercover agent'\n",
      "------------------------------\n",
      "1. North by Northwest (Score: 0.581)\n",
      "2. Mission: Impossible (Score: 0.509)\n",
      "3. The Departed (Score: 0.485)\n",
      "\n",
      "Query: 'assassination plot'\n",
      "------------------------------\n",
      "1. Marathon Man (Score: 0.533)\n",
      "2. The Parallax View (Score: 0.521)\n",
      "3. The Pelican Brief (Score: 0.501)\n",
      "\n",
      "Query: 'cold war espionage'\n",
      "------------------------------\n",
      "1. Tinker Tailor Soldier Spy (Score: 0.670)\n",
      "2. Three Days of the Condor (Score: 0.479)\n",
      "3. The Spy Who Loved Me (Score: 0.438)\n"
     ]
    }
   ],
   "source": [
    "# Test with different queries\n",
    "test_queries = [\n",
    "    'government conspiracy',\n",
    "    'undercover agent',\n",
    "    'assassination plot',\n",
    "    'cold war espionage'\n",
    "]\n",
    "\n",
    "for query in test_queries:\n",
    "    print(f\"\\nQuery: '{query}'\")\n",
    "    print(\"-\" * 30)\n",
    "    results = search_movies(query, top_n=3)\n",
    "    for idx, row in results.iterrows():\n",
    "        print(f\"{idx + 1}. {row['title']} (Score: {row['similarity_score']:.3f})\")"
   ]
  },
  {
   "cell_type": "markdown",
   "metadata": {},
   "source": [
    "## Summary\n",
    "\n",
    "We have successfully implemented a semantic search engine for movie plots using:\n",
    "\n",
    "1. **SentenceTransformers**: Used the 'all-MiniLM-L6-v2' model to create embeddings\n",
    "2. **Cosine Similarity**: Calculated similarity between query and movie plot embeddings\n",
    "3. **Pandas**: Managed the movie dataset and results\n",
    "4. **NumPy**: Handled array operations for similarity calculations\n",
    "\n",
    "The search function returns movies ranked by semantic similarity, allowing users to find relevant movies even when the exact keywords don't match."
   ]
  }
 ],
 "metadata": {
  "kernelspec": {
   "display_name": "Python 3",
   "language": "python",
   "name": "python3"
  },
  "language_info": {
   "codemirror_mode": {
    "name": "ipython",
    "version": 3
   },
   "file_extension": ".py",
   "mimetype": "text/x-python",
   "name": "python",
   "nbconvert_exporter": "python",
   "pygments_lexer": "ipython3",
   "version": "3.13.7"
  },
  "widgets": {
   "application/vnd.jupyter.widget-state+json": {
    "state": {
     "03b99f6e49bf424f9d45f969169b51cc": {
      "model_module": "@jupyter-widgets/controls",
      "model_module_version": "2.0.0",
      "model_name": "ProgressStyleModel",
      "state": {
       "_model_module": "@jupyter-widgets/controls",
       "_model_module_version": "2.0.0",
       "_model_name": "ProgressStyleModel",
       "_view_count": null,
       "_view_module": "@jupyter-widgets/base",
       "_view_module_version": "2.0.0",
       "_view_name": "StyleView",
       "bar_color": null,
       "description_width": ""
      }
     },
     "26ee33e7c4e34ec2a5bea5f68776858f": {
      "model_module": "@jupyter-widgets/base",
      "model_module_version": "2.0.0",
      "model_name": "LayoutModel",
      "state": {
       "_model_module": "@jupyter-widgets/base",
       "_model_module_version": "2.0.0",
       "_model_name": "LayoutModel",
       "_view_count": null,
       "_view_module": "@jupyter-widgets/base",
       "_view_module_version": "2.0.0",
       "_view_name": "LayoutView",
       "align_content": null,
       "align_items": null,
       "align_self": null,
       "border_bottom": null,
       "border_left": null,
       "border_right": null,
       "border_top": null,
       "bottom": null,
       "display": null,
       "flex": null,
       "flex_flow": null,
       "grid_area": null,
       "grid_auto_columns": null,
       "grid_auto_flow": null,
       "grid_auto_rows": null,
       "grid_column": null,
       "grid_gap": null,
       "grid_row": null,
       "grid_template_areas": null,
       "grid_template_columns": null,
       "grid_template_rows": null,
       "height": null,
       "justify_content": null,
       "justify_items": null,
       "left": null,
       "margin": null,
       "max_height": null,
       "max_width": null,
       "min_height": null,
       "min_width": null,
       "object_fit": null,
       "object_position": null,
       "order": null,
       "overflow": null,
       "padding": null,
       "right": null,
       "top": null,
       "visibility": null,
       "width": null
      }
     },
     "28634fb5b57049f79cb3cf51b257f6d8": {
      "model_module": "@jupyter-widgets/base",
      "model_module_version": "2.0.0",
      "model_name": "LayoutModel",
      "state": {
       "_model_module": "@jupyter-widgets/base",
       "_model_module_version": "2.0.0",
       "_model_name": "LayoutModel",
       "_view_count": null,
       "_view_module": "@jupyter-widgets/base",
       "_view_module_version": "2.0.0",
       "_view_name": "LayoutView",
       "align_content": null,
       "align_items": null,
       "align_self": null,
       "border_bottom": null,
       "border_left": null,
       "border_right": null,
       "border_top": null,
       "bottom": null,
       "display": null,
       "flex": null,
       "flex_flow": null,
       "grid_area": null,
       "grid_auto_columns": null,
       "grid_auto_flow": null,
       "grid_auto_rows": null,
       "grid_column": null,
       "grid_gap": null,
       "grid_row": null,
       "grid_template_areas": null,
       "grid_template_columns": null,
       "grid_template_rows": null,
       "height": null,
       "justify_content": null,
       "justify_items": null,
       "left": null,
       "margin": null,
       "max_height": null,
       "max_width": null,
       "min_height": null,
       "min_width": null,
       "object_fit": null,
       "object_position": null,
       "order": null,
       "overflow": null,
       "padding": null,
       "right": null,
       "top": null,
       "visibility": null,
       "width": null
      }
     },
     "3e35865c34e54b47b6e96884c0fe0b3d": {
      "model_module": "@jupyter-widgets/controls",
      "model_module_version": "2.0.0",
      "model_name": "HBoxModel",
      "state": {
       "_dom_classes": [],
       "_model_module": "@jupyter-widgets/controls",
       "_model_module_version": "2.0.0",
       "_model_name": "HBoxModel",
       "_view_count": null,
       "_view_module": "@jupyter-widgets/controls",
       "_view_module_version": "2.0.0",
       "_view_name": "HBoxView",
       "box_style": "",
       "children": [
        "IPY_MODEL_cfa84474116441faa61321b0d8686406",
        "IPY_MODEL_8f2edc58c3df49fabe106b45551171f4",
        "IPY_MODEL_40431682b26d4971989e612a4f5c7d44"
       ],
       "layout": "IPY_MODEL_7a41a0e6934d4d5baca3c430b44718ab",
       "tabbable": null,
       "tooltip": null
      }
     },
     "40431682b26d4971989e612a4f5c7d44": {
      "model_module": "@jupyter-widgets/controls",
      "model_module_version": "2.0.0",
      "model_name": "HTMLModel",
      "state": {
       "_dom_classes": [],
       "_model_module": "@jupyter-widgets/controls",
       "_model_module_version": "2.0.0",
       "_model_name": "HTMLModel",
       "_view_count": null,
       "_view_module": "@jupyter-widgets/controls",
       "_view_module_version": "2.0.0",
       "_view_name": "HTMLView",
       "description": "",
       "description_allow_html": false,
       "layout": "IPY_MODEL_28634fb5b57049f79cb3cf51b257f6d8",
       "placeholder": "​",
       "style": "IPY_MODEL_ee9f8e737da04687b43b626964384997",
       "tabbable": null,
       "tooltip": null,
       "value": " 1/1 [00:00&lt;00:00,  5.97it/s]"
      }
     },
     "4ad7ba126e424eafb8545cc54188b58e": {
      "model_module": "@jupyter-widgets/base",
      "model_module_version": "2.0.0",
      "model_name": "LayoutModel",
      "state": {
       "_model_module": "@jupyter-widgets/base",
       "_model_module_version": "2.0.0",
       "_model_name": "LayoutModel",
       "_view_count": null,
       "_view_module": "@jupyter-widgets/base",
       "_view_module_version": "2.0.0",
       "_view_name": "LayoutView",
       "align_content": null,
       "align_items": null,
       "align_self": null,
       "border_bottom": null,
       "border_left": null,
       "border_right": null,
       "border_top": null,
       "bottom": null,
       "display": null,
       "flex": null,
       "flex_flow": null,
       "grid_area": null,
       "grid_auto_columns": null,
       "grid_auto_flow": null,
       "grid_auto_rows": null,
       "grid_column": null,
       "grid_gap": null,
       "grid_row": null,
       "grid_template_areas": null,
       "grid_template_columns": null,
       "grid_template_rows": null,
       "height": null,
       "justify_content": null,
       "justify_items": null,
       "left": null,
       "margin": null,
       "max_height": null,
       "max_width": null,
       "min_height": null,
       "min_width": null,
       "object_fit": null,
       "object_position": null,
       "order": null,
       "overflow": null,
       "padding": null,
       "right": null,
       "top": null,
       "visibility": null,
       "width": null
      }
     },
     "7a41a0e6934d4d5baca3c430b44718ab": {
      "model_module": "@jupyter-widgets/base",
      "model_module_version": "2.0.0",
      "model_name": "LayoutModel",
      "state": {
       "_model_module": "@jupyter-widgets/base",
       "_model_module_version": "2.0.0",
       "_model_name": "LayoutModel",
       "_view_count": null,
       "_view_module": "@jupyter-widgets/base",
       "_view_module_version": "2.0.0",
       "_view_name": "LayoutView",
       "align_content": null,
       "align_items": null,
       "align_self": null,
       "border_bottom": null,
       "border_left": null,
       "border_right": null,
       "border_top": null,
       "bottom": null,
       "display": null,
       "flex": null,
       "flex_flow": null,
       "grid_area": null,
       "grid_auto_columns": null,
       "grid_auto_flow": null,
       "grid_auto_rows": null,
       "grid_column": null,
       "grid_gap": null,
       "grid_row": null,
       "grid_template_areas": null,
       "grid_template_columns": null,
       "grid_template_rows": null,
       "height": null,
       "justify_content": null,
       "justify_items": null,
       "left": null,
       "margin": null,
       "max_height": null,
       "max_width": null,
       "min_height": null,
       "min_width": null,
       "object_fit": null,
       "object_position": null,
       "order": null,
       "overflow": null,
       "padding": null,
       "right": null,
       "top": null,
       "visibility": null,
       "width": null
      }
     },
     "8f2edc58c3df49fabe106b45551171f4": {
      "model_module": "@jupyter-widgets/controls",
      "model_module_version": "2.0.0",
      "model_name": "FloatProgressModel",
      "state": {
       "_dom_classes": [],
       "_model_module": "@jupyter-widgets/controls",
       "_model_module_version": "2.0.0",
       "_model_name": "FloatProgressModel",
       "_view_count": null,
       "_view_module": "@jupyter-widgets/controls",
       "_view_module_version": "2.0.0",
       "_view_name": "ProgressView",
       "bar_style": "success",
       "description": "",
       "description_allow_html": false,
       "layout": "IPY_MODEL_4ad7ba126e424eafb8545cc54188b58e",
       "max": 1.0,
       "min": 0.0,
       "orientation": "horizontal",
       "style": "IPY_MODEL_03b99f6e49bf424f9d45f969169b51cc",
       "tabbable": null,
       "tooltip": null,
       "value": 1.0
      }
     },
     "a240b4dc1c7b42e7916a5ed0b57a7120": {
      "model_module": "@jupyter-widgets/controls",
      "model_module_version": "2.0.0",
      "model_name": "HTMLStyleModel",
      "state": {
       "_model_module": "@jupyter-widgets/controls",
       "_model_module_version": "2.0.0",
       "_model_name": "HTMLStyleModel",
       "_view_count": null,
       "_view_module": "@jupyter-widgets/base",
       "_view_module_version": "2.0.0",
       "_view_name": "StyleView",
       "background": null,
       "description_width": "",
       "font_size": null,
       "text_color": null
      }
     },
     "cfa84474116441faa61321b0d8686406": {
      "model_module": "@jupyter-widgets/controls",
      "model_module_version": "2.0.0",
      "model_name": "HTMLModel",
      "state": {
       "_dom_classes": [],
       "_model_module": "@jupyter-widgets/controls",
       "_model_module_version": "2.0.0",
       "_model_name": "HTMLModel",
       "_view_count": null,
       "_view_module": "@jupyter-widgets/controls",
       "_view_module_version": "2.0.0",
       "_view_name": "HTMLView",
       "description": "",
       "description_allow_html": false,
       "layout": "IPY_MODEL_26ee33e7c4e34ec2a5bea5f68776858f",
       "placeholder": "​",
       "style": "IPY_MODEL_a240b4dc1c7b42e7916a5ed0b57a7120",
       "tabbable": null,
       "tooltip": null,
       "value": "Batches: 100%"
      }
     },
     "ee9f8e737da04687b43b626964384997": {
      "model_module": "@jupyter-widgets/controls",
      "model_module_version": "2.0.0",
      "model_name": "HTMLStyleModel",
      "state": {
       "_model_module": "@jupyter-widgets/controls",
       "_model_module_version": "2.0.0",
       "_model_name": "HTMLStyleModel",
       "_view_count": null,
       "_view_module": "@jupyter-widgets/base",
       "_view_module_version": "2.0.0",
       "_view_name": "StyleView",
       "background": null,
       "description_width": "",
       "font_size": null,
       "text_color": null
      }
     }
    },
    "version_major": 2,
    "version_minor": 0
   }
  }
 },
 "nbformat": 4,
 "nbformat_minor": 4
}
