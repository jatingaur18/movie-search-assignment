{
 "cells": [
  {
   "cell_type": "markdown",
   "metadata": {},
   "source": [
    "# Movie Semantic Search Assignment\n",
    "\n",
    "This notebook implements a semantic search engine for movie plots using SentenceTransformers.\n",
    "\n",
    "**Student Name:** [Your Name Here]  \n",
    "**Assignment:** Semantic Search on Movie Plots  \n",
    "**Due Date:** August 26, 2025\n"
   ]
  },
  {
   "cell_type": "markdown",
   "metadata": {},
   "source": [
    "## Section 1: Install and Import Libraries\n",
    "\n",
    "First, we'll install and import all the necessary libraries for our semantic search system."
   ]
  },
  {
   "cell_type": "code",
   "execution_count": null,
   "metadata": {},
   "outputs": [],
   "source": [
    "# Install required packages (run this cell if packages are not installed)\n",
    "# !pip install sentence-transformers pandas scikit-learn numpy\n",
    "\n",
    "# Import necessary libraries\n",
    "import pandas as pd\n",
    "import numpy as np\n",
    "from sentence_transformers import SentenceTransformer\n",
    "from sklearn.metrics.pairwise import cosine_similarity\n",
    "import warnings\n",
    "warnings.filterwarnings('ignore')\n",
    "\n",
    "print(\"Libraries imported successfully!\")"
   ]
  },
  {
   "cell_type": "markdown",
   "metadata": {},
   "source": [
    "## Section 2: Load Movie Dataset\n",
    "\n",
    "We'll load the movie dataset from the CSV file into a pandas DataFrame."
   ]
  },
  {
   "cell_type": "code",
   "execution_count": null,
   "metadata": {},
   "outputs": [],
   "source": [
    "# Load the movies dataset\n",
    "movies_df = pd.read_csv('movies.csv')\n",
    "\n",
    "# Display basic information about the dataset\n",
    "print(f\"Dataset shape: {movies_df.shape}\")\n",
    "print(f\"Columns: {list(movies_df.columns)}\")\n",
    "print(\"\\nFirst 5 movies:\")\n",
    "print(movies_df.head())"
   ]
  },
  {
   "cell_type": "markdown",
   "metadata": {},
   "source": [
    "## Section 3: Create Embeddings using SentenceTransformers\n",
    "\n",
    "We'll use the 'all-MiniLM-L6-v2' model to create embeddings for all movie plots."
   ]
  },
  {
   "cell_type": "code",
   "execution_count": null,
   "metadata": {},
   "outputs": [],
   "source": [
    "# Initialize the SentenceTransformer model\n",
    "# all-MiniLM-L6-v2 is a lightweight model that provides good performance for semantic similarity\n",
    "model = SentenceTransformer('all-MiniLM-L6-v2')\n",
    "\n",
    "print(f\"Model loaded: {model}\")\n",
    "print(f\"Model max sequence length: {model.max_seq_length}\")"
   ]
  },
  {
   "cell_type": "code",
   "execution_count": null,
   "metadata": {},
   "outputs": [],
   "source": [
    "# Create embeddings for all movie plots\n",
    "print(\"Creating embeddings for movie plots...\")\n",
    "\n",
    "# Extract plot descriptions\n",
    "movie_plots = movies_df['plot'].tolist()\n",
    "\n",
    "# Generate embeddings using the SentenceTransformer model\n",
    "movie_embeddings = model.encode(movie_plots, show_progress_bar=True)\n",
    "\n",
    "print(f\"Created embeddings with shape: {movie_embeddings.shape}\")\n",
    "print(f\"Each movie plot is represented by a {movie_embeddings.shape[1]}-dimensional vector\")"
   ]
  },
  {
   "cell_type": "markdown",
   "metadata": {},
   "source": [
    "## Section 4: Implement Search Function\n",
    "\n",
    "Now we'll implement the `search_movies` function that takes a query and returns the most similar movies."
   ]
  },
  {
   "cell_type": "code",
   "execution_count": null,
   "metadata": {},
   "outputs": [],
   "source": [
    "def search_movies(query, top_n=5):\n",
    "    \"\"\"\n",
    "    Search for movies based on a text query using semantic similarity.\n",
    "    \n",
    "    Args:\n",
    "        query (str): The search query describing the type of movie desired\n",
    "        top_n (int): Number of top results to return (default: 5)\n",
    "    \n",
    "    Returns:\n",
    "        pandas.DataFrame: DataFrame containing top_n movies with columns:\n",
    "                         - title: Movie title\n",
    "                         - plot: Movie plot description  \n",
    "                         - similarity_score: Cosine similarity score (0-1)\n",
    "    \"\"\"\n",
    "    \n",
    "    # Step 1: Encode the search query using the same model\n",
    "    query_embedding = model.encode([query])\n",
    "    \n",
    "    # Step 2: Calculate cosine similarity between query and all movie plots\n",
    "    # cosine_similarity returns a 2D array, we take the first row\n",
    "    similarities = cosine_similarity(query_embedding, movie_embeddings)[0]\n",
    "    \n",
    "    # Step 3: Get indices of top_n most similar movies\n",
    "    # argsort() returns indices that would sort the array\n",
    "    # [::-1] reverses to get descending order (highest similarity first)\n",
    "    # [:top_n] takes only the top_n results\n",
    "    top_indices = np.argsort(similarities)[::-1][:top_n]\n",
    "    \n",
    "    # Step 4: Create result DataFrame with the top movies\n",
    "    result_df = movies_df.iloc[top_indices].copy()\n",
    "    \n",
    "    # Step 5: Add similarity scores to the result\n",
    "    result_df['similarity_score'] = similarities[top_indices]\n",
    "    \n",
    "    # Step 6: Reset index and return only required columns\n",
    "    result_df = result_df.reset_index(drop=True)\n",
    "    \n",
    "    return result_df[['title', 'plot', 'similarity_score']]\n",
    "\n",
    "print(\"search_movies function defined successfully!\")"
   ]
  },
  {
   "cell_type": "markdown",
   "metadata": {},
   "source": [
    "## Section 5: Test the Search Function\n",
    "\n",
    "Let's test our search function with the query 'spy thriller in Paris' and see the results."
   ]
  },
  {
   "cell_type": "code",
   "execution_count": null,
   "metadata": {},
   "outputs": [],
   "source": [
    "# Test the search function with the specified query\n",
    "test_query = 'spy thriller in Paris'\n",
    "results = search_movies(test_query, top_n=5)\n",
    "\n",
    "print(f\"Search Results for: '{test_query}'\")\n",
    "print(\"=\" * 50)\n",
    "\n",
    "# Display results in a nice format\n",
    "for idx, row in results.iterrows():\n",
    "    print(f\"\\n{idx + 1}. {row['title']}\")\n",
    "    print(f\"   Similarity Score: {row['similarity_score']:.4f}\")\n",
    "    print(f\"   Plot: {row['plot'][:100]}...\")\n",
    "\n",
    "print(\"\\n\" + \"=\" * 50)\n",
    "print(\"\\nFull Results DataFrame:\")\n",
    "print(results)"
   ]
  },
  {
   "cell_type": "markdown",
   "metadata": {},
   "source": [
    "## Additional Testing\n",
    "\n",
    "Let's test with a few more queries to see how well our semantic search works."
   ]
  },
  {
   "cell_type": "code",
   "execution_count": null,
   "metadata": {},
   "outputs": [],
   "source": [
    "# Test with different queries\n",
    "test_queries = [\n",
    "    'government conspiracy',\n",
    "    'undercover agent',\n",
    "    'assassination plot',\n",
    "    'cold war espionage'\n",
    "]\n",
    "\n",
    "for query in test_queries:\n",
    "    print(f\"\\nQuery: '{query}'\")\n",
    "    print(\"-\" * 30)\n",
    "    results = search_movies(query, top_n=3)\n",
    "    for idx, row in results.iterrows():\n",
    "        print(f\"{idx + 1}. {row['title']} (Score: {row['similarity_score']:.3f})\")"
   ]
  },
  {
   "cell_type": "markdown",
   "metadata": {},
   "source": [
    "## Summary\n",
    "\n",
    "We have successfully implemented a semantic search engine for movie plots using:\n",
    "\n",
    "1. **SentenceTransformers**: Used the 'all-MiniLM-L6-v2' model to create embeddings\n",
    "2. **Cosine Similarity**: Calculated similarity between query and movie plot embeddings\n",
    "3. **Pandas**: Managed the movie dataset and results\n",
    "4. **NumPy**: Handled array operations for similarity calculations\n",
    "\n",
    "The search function returns movies ranked by semantic similarity, allowing users to find relevant movies even when the exact keywords don't match."
   ]
  }
 ],
 "metadata": {
  "kernelspec": {
   "display_name": "Python 3",
   "language": "python",
   "name": "python3"
  },
  "language_info": {
   "codemirror_mode": {
    "name": "ipython",
    "version": 3
   },
   "file_extension": ".py",
   "mimetype": "text/x-python",
   "name": "python",
   "nbconvert_exporter": "python",
   "pygments_lexer": "ipython3",
   "version": "3.8.5"
  }
 },
 "nbformat": 4,
 "nbformat_minor": 4
}